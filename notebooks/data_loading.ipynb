{
 "cells": [
  {
   "cell_type": "code",
   "execution_count": null,
   "id": "2d06248e",
   "metadata": {
    "scrolled": true
   },
   "outputs": [],
   "source": [
    "import pandas as pd\n",
    "from sqlalchemy import create_engine\n",
    "import pymysql"
   ]
  },
  {
   "cell_type": "code",
   "execution_count": null,
   "id": "00619e45",
   "metadata": {},
   "outputs": [],
   "source": [
    "# 1. MySQL Database Connection Configuration\n",
    "db_config = {\n",
    "    'user': 'root',\n",
    "    'password': 'admin',\n",
    "    'host': 'localhost',\n",
    "    'database': 'olist'\n",
    "}"
   ]
  },
  {
   "cell_type": "code",
   "execution_count": null,
   "id": "ed325e78",
   "metadata": {},
   "outputs": [],
   "source": [
    "# 2. Create a connection using pymysql (for testing)\n",
    "try:\n",
    "    conn = pymysql.connect(\n",
    "        host=db_config['host'],\n",
    "        user=db_config['user'],\n",
    "        password=db_config['password'],\n",
    "        database=db_config['database']\n",
    "    )\n",
    "    if conn.open:\n",
    "        print(\"Successfully connected to MySQL!\")\n",
    "except Exception as e:\n",
    "    print(f\"Error connecting to MySQL: {e}\")\n",
    "    exit()\n"
   ]
  },
  {
   "cell_type": "code",
   "execution_count": null,
   "id": "1367711b",
   "metadata": {},
   "outputs": [],
   "source": [
    "# 3. Create an SQLAlchemy engine for efficient inserts\n",
    "engine = create_engine(\n",
    "    f\"mysql+pymysql://{db_config['user']}:{db_config['password']}@{db_config['host']}/{db_config['database']}\"\n",
    ")"
   ]
  },
  {
   "cell_type": "code",
   "execution_count": null,
   "id": "50c53fb1",
   "metadata": {},
   "outputs": [],
   "source": [
    "# 4. Function to load CSVs into MySQL tables\n",
    "def load_csv_to_mysql(csv_file, table_name):\n",
    "    try:\n",
    "        # Load the CSV into a Pandas DataFrame\n",
    "        df = pd.read_csv(csv_file)\n",
    "\n",
    "        # Insert data into MySQL using SQLAlchemy\n",
    "        df.to_sql(table_name, con=engine, if_exists='replace', index=False)\n",
    "        print(f\"Successfully loaded {csv_file} into {table_name}!\")\n",
    "    except Exception as e:\n",
    "        print(f\"Error loading data into {table_name}: {e}\")\n"
   ]
  },
  {
   "cell_type": "code",
   "execution_count": null,
   "id": "a68068b8",
   "metadata": {},
   "outputs": [],
   "source": [
    "# 5. List of CSV files and their corresponding table names\n",
    "csv_files = {\n",
    "#     'olist_customers_dataset.csv': 'olist_customers_dataset',\n",
    "    'olist_geolocation_dataset.csv': 'olist_geolocation_dataset',\n",
    "    'olist_order_items_dataset.csv': 'olist_order_items_dataset',\n",
    "    'olist_order_payments_dataset.csv': 'olist_order_payments_dataset',\n",
    "    'olist_order_reviews_dataset.csv': 'olist_order_reviews_dataset',\n",
    "    'olist_orders_dataset.csv': 'olist_orders_dataset',\n",
    "    'olist_products_dataset.csv': 'olist_products_dataset',\n",
    "    'olist_sellers_dataset.csv': 'olist_sellers_dataset',\n",
    "    'product_category_name_translation.csv': 'product_category_name_translation'\n",
    "}"
   ]
  },
  {
   "cell_type": "code",
   "execution_count": null,
   "id": "121b3743",
   "metadata": {},
   "outputs": [],
   "source": [
    "# 6. Loop through all CSV files and load them into the corresponding tables\n",
    "for csv_file, table_name in csv_files.items():\n",
    "    load_csv_to_mysql(csv_file, table_name)\n"
   ]
  },
  {
   "cell_type": "code",
   "execution_count": null,
   "id": "3b13dedc",
   "metadata": {},
   "outputs": [],
   "source": []
  }
 ],
 "metadata": {
  "kernelspec": {
   "display_name": "Python 3 (ipykernel)",
   "language": "python",
   "name": "python3"
  },
  "language_info": {
   "codemirror_mode": {
    "name": "ipython",
    "version": 3
   },
   "file_extension": ".py",
   "mimetype": "text/x-python",
   "name": "python",
   "nbconvert_exporter": "python",
   "pygments_lexer": "ipython3",
   "version": "3.11.3"
  }
 },
 "nbformat": 4,
 "nbformat_minor": 5
}
